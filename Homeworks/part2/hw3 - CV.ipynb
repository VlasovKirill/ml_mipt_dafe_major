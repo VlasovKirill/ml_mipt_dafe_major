{
 "cells": [
  {
   "cell_type": "markdown",
   "metadata": {},
   "source": [
    "# Homework 3 - CV\n",
    "Традиционно, Ваш ноутбук должен быть воспроизводим. Не забудьте сохранить Output   \n",
    "Загружать решение (сложить в архив: скрипты с моделью, веса и ссылку на итоговое видео) нужно сюда в __[форму](http://bit.ly/ml_hw_2021)__"
   ]
  },
  {
   "cell_type": "markdown",
   "metadata": {},
   "source": [
    "Вашим заданием будет детектировать котов на видео.  \n",
    "Возьмите любое видео с [канала](https://www.youtube.com/channel/UCwcsDWGip6vtiZyCnvDoClQ/videos), сделайте детекцию котов и сохраните итоговое видео "
   ]
  },
  {
   "cell_type": "markdown",
   "metadata": {},
   "source": [
    "__Последовательность действий:__\n",
    "- Соберите или найдите датасет с котами. Например: [cifar-10](http://www.cs.toronto.edu/~kriz/cifar.html)\n",
    "- Если Ваш датсет не содердит bbox, то вы можете разметить его в ручную с [помощью](https://github.com/tzutalin/labelImg)\n",
    "- Обучите любой детектор изображений \n",
    "- Сделайте инференс детектора на видео. Сохраните видео и загрузите его вместе с ноутбуком\n",
    "\n",
    "Если будет сложно, то можно попробовать заглянуть [сюда](\n",
    "https://towardsdatascience.com/how-to-train-your-own-object-detector-with-tensorflows-object-detector-api-bec72ecfe1d9)"
   ]
  }
 ],
 "metadata": {
  "kernelspec": {
   "display_name": "Python 3",
   "language": "python",
   "name": "python3"
  },
  "language_info": {
   "codemirror_mode": {
    "name": "ipython",
    "version": 3
   },
   "file_extension": ".py",
   "mimetype": "text/x-python",
   "name": "python",
   "nbconvert_exporter": "python",
   "pygments_lexer": "ipython3",
   "version": "3.8.2"
  }
 },
 "nbformat": 4,
 "nbformat_minor": 2
}
