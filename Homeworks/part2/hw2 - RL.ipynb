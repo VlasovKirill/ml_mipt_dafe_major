{
  "nbformat": 4,
  "nbformat_minor": 0,
  "metadata": {
    "kernelspec": {
      "display_name": "Python 3",
      "language": "python",
      "name": "python3"
    },
    "language_info": {
      "codemirror_mode": {
        "name": "ipython",
        "version": 3
      },
      "file_extension": ".py",
      "mimetype": "text/x-python",
      "name": "python",
      "nbconvert_exporter": "python",
      "pygments_lexer": "ipython3",
      "version": "3.7.5"
    },
    "colab": {
      "name": "HW_RL.ipynb",
      "provenance": [],
      "collapsed_sections": [],
      "toc_visible": true
    }
  },
  "cells": [
    {
      "cell_type": "markdown",
      "metadata": {
        "id": "whiAANkwhw-I"
      },
      "source": [
        "# Задание 1. MDP (30%)"
      ]
    },
    {
      "cell_type": "markdown",
      "metadata": {
        "id": "XccGClM6h3jh"
      },
      "source": [
        "Когда Инокетений Вальдемарович Носочков приходит на работу, то с вероятностью 50% он хочет пойти в бар, с 10% – покушац, с 20% – спать. Если он ничего не хочет, то он продолжает работать. Когда Кеша пьет в Баре, то в 10% посещений он возвращается на работу и с вероятностью 30% идет спать, но в остальное время продолжает пить. Когда он просыпается, то с вероятностью 40% идет покушац и с вероятностью 60% идет в бар пить дальше. Если вдруг г-н Носочков поел, то с вероятностью 80% он начинает работать, а если не срослось с работой, то он начинает хотеть спать."
      ]
    },
    {
      "cell_type": "markdown",
      "metadata": {
        "id": "kS-kwBSRh3mX"
      },
      "source": [
        "Определите вероятности, что наш герой прямо сейчас работает, пьет в баре, спит или ест, при условии, что если Инокетений чего-то хочет, то делает это."
      ]
    },
    {
      "cell_type": "code",
      "metadata": {
        "id": "QIic4ugEhxYk"
      },
      "source": [
        ""
      ],
      "execution_count": null,
      "outputs": []
    },
    {
      "cell_type": "markdown",
      "metadata": {
        "id": "AMASlwFTie0R"
      },
      "source": [
        "# Задание 2. Tabular Q-learning  (30%)"
      ]
    },
    {
      "cell_type": "markdown",
      "metadata": {
        "id": "qYSJPGRHpmz-"
      },
      "source": [
        "Условие игры:\n",
        "\n",
        "Игра начинается с 1 очка.\n",
        "Два игрока по очереди прибавляют очки от 1 до 9.\n",
        "Побеждает тот, кто первым наберет 100 и более очков.\n",
        "\n",
        "Пример:\n",
        "\n",
        "В игре 87 очков.\n",
        "\n",
        "Первый прибавляет 7 -> получается 94.\n",
        "\n",
        "Второй прибавляет 7, получается 101 и второй побеждает."
      ]
    },
    {
      "cell_type": "code",
      "metadata": {
        "id": "26xThksptHo8"
      },
      "source": [
        "class Game:\n",
        "    \"\"\"\n",
        "    A class to represent game.\n",
        "    \"\"\"\n",
        "    points = 1\n",
        "    turn = 0 # player who made the previous move \n",
        "        \n",
        "    def __init__(self):\n",
        "        \"\"\"\n",
        "        Initializes a new game\n",
        "        \"\"\"\n",
        "        self.points = 1\n",
        "        self.turn = 2\n",
        "\n",
        "    def reset_game(self):\n",
        "        \"\"\"\n",
        "        Resets the game to starting position.\n",
        "        \"\"\"\n",
        "        self.points = 1\n",
        "        self.turn = 2        \n",
        "    \n",
        "    def make_move(self, points):\n",
        "        \"\"\"\n",
        "        Player make a move.\n",
        "        \"\"\"\n",
        "        if points < 1 or points > 9:\n",
        "          print(\"bad points\")\n",
        "          return\n",
        "        if self.is_game_over()[0]:\n",
        "          return\n",
        "        self.points += points\n",
        "        if self.turn == 1: \n",
        "          self.turn = 2\n",
        "        else:\n",
        "          self.turn = 1    \n",
        "    \n",
        "    def is_game_over(self):\n",
        "        \"\"\"\n",
        "        Finds out and returns weather the game currently being played is over or\n",
        "        not.\n",
        "        \"\"\"\n",
        "        if self.points >= 100:\n",
        "            return True, self.turn, 1 # Flag, winner, reward\n",
        "        return False, self.turn, 0    # Flag, player, reward"
      ],
      "execution_count": 64,
      "outputs": []
    },
    {
      "cell_type": "code",
      "metadata": {
        "id": "kkEpWG3xya7y"
      },
      "source": [
        "from random import randrange\n",
        "class Random_player:\n",
        "    \"\"\"\n",
        "    Player class\n",
        "    \"\"\"\n",
        "\n",
        "    def move(self, points):\n",
        "        \"\"\"\n",
        "        Player make a move.\n",
        "        \"\"\"\n",
        "        move = randrange(9) + 1\n",
        "        return move"
      ],
      "execution_count": 159,
      "outputs": []
    },
    {
      "cell_type": "code",
      "metadata": {
        "id": "5h-AyRuCwWdN"
      },
      "source": [
        "game = Game()"
      ],
      "execution_count": 160,
      "outputs": []
    },
    {
      "cell_type": "code",
      "metadata": {
        "id": "Dsy7FoOywdXc"
      },
      "source": [
        "player = Random_player()"
      ],
      "execution_count": 168,
      "outputs": []
    },
    {
      "cell_type": "code",
      "metadata": {
        "colab": {
          "base_uri": "https://localhost:8080/"
        },
        "id": "iZN5f3lg4XCl",
        "outputId": "052982e6-9fc6-458c-896c-a68d97fe5688"
      },
      "source": [
        "game.reset_game()\n",
        "while game.is_game_over()[0] == False:\n",
        "  game.make_move(player.move(game.points))\n",
        "  print(game.is_game_over())"
      ],
      "execution_count": 180,
      "outputs": [
        {
          "output_type": "stream",
          "text": [
            "(False, 1, 0)\n",
            "(False, 2, 0)\n",
            "(False, 1, 0)\n",
            "(False, 2, 0)\n",
            "(False, 1, 0)\n",
            "(False, 2, 0)\n",
            "(False, 1, 0)\n",
            "(False, 2, 0)\n",
            "(False, 1, 0)\n",
            "(False, 2, 0)\n",
            "(False, 1, 0)\n",
            "(False, 2, 0)\n",
            "(False, 1, 0)\n",
            "(False, 2, 0)\n",
            "(False, 1, 0)\n",
            "(False, 2, 0)\n",
            "(False, 1, 0)\n",
            "(False, 2, 0)\n",
            "(False, 1, 0)\n",
            "(False, 2, 0)\n",
            "(False, 1, 0)\n",
            "(True, 2, 1)\n"
          ],
          "name": "stdout"
        }
      ]
    },
    {
      "cell_type": "markdown",
      "metadata": {
        "id": "fI6H52D5rsGa"
      },
      "source": [
        "## Победите 10/10 используя Tabular Q-learning.\n",
        "Вы играете за 1го игрока, второй игрок ходит рандомно."
      ]
    },
    {
      "cell_type": "code",
      "metadata": {
        "id": "nkpsBpDhhxfJ"
      },
      "source": [
        ""
      ],
      "execution_count": null,
      "outputs": []
    },
    {
      "cell_type": "markdown",
      "metadata": {
        "id": "AV2oOocOiluq"
      },
      "source": [
        "# Задание 3. DQN (40%)"
      ]
    },
    {
      "cell_type": "markdown",
      "metadata": {
        "id": "zdC2ifsfsLc3"
      },
      "source": [
        "## Победите 10/10 используя DQN.\n",
        "Подготовте алгоритм на основе Tabular Q-learning для 2го игрока.\n",
        "\n",
        "Вы играете за 1го игрока, победите 2го."
      ]
    },
    {
      "cell_type": "code",
      "metadata": {
        "id": "bWdPYg3milur"
      },
      "source": [
        ""
      ],
      "execution_count": null,
      "outputs": []
    },
    {
      "cell_type": "markdown",
      "metadata": {
        "id": "D8eTuu5WszL-"
      },
      "source": [
        "# Задание 4 (+2 балла при сделанном задании)\n",
        "Опишите выигрышную стратегию для первого игрока."
      ]
    },
    {
      "cell_type": "markdown",
      "metadata": {
        "id": "ir18OJZCs9c7"
      },
      "source": [
        ""
      ]
    }
  ]
}