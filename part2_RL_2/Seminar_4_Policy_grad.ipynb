{
 "cells": [
  {
   "cell_type": "markdown",
   "metadata": {},
   "source": [
    "# Семинар 4. Policy Gradients"
   ]
  },
  {
   "cell_type": "code",
   "execution_count": 65,
   "metadata": {},
   "outputs": [],
   "source": [
    "import gym\n",
    "import numpy as np\n",
    "\n",
    "import torch\n",
    "import torch.nn as nn\n",
    "import torch.nn.functional as F\n",
    "import torch.optim as optim\n",
    "from torch.distributions import Categorical"
   ]
  },
  {
   "cell_type": "markdown",
   "metadata": {},
   "source": [
    "## Policy Gradients\n",
    "Мы будем обучать агента без явного отображения значения для каждой пары состояние-действие в среде. Будем обновлять политику на основе вознаграждения, связанного с каждым шагом. Агент может получить награду сразу за действие, или агент может получить награду позже, например, в конце эпизода.\n",
    "Мы применим метод под названием «Градиент политики Монте-Карло», который означает, что агент будет проходить весь эпизод, а затем обновлять нашу политику в зависимости от полученных наград."
   ]
  },
  {
   "cell_type": "code",
   "execution_count": 66,
   "metadata": {},
   "outputs": [],
   "source": [
    "#Hyperparameters\n",
    "learning_rate = 0.01\n",
    "G = 0.99\n",
    "seed = 543\n",
    "render = True\n",
    "log_interval = 10"
   ]
  },
  {
   "cell_type": "code",
   "execution_count": 67,
   "metadata": {},
   "outputs": [
    {
     "data": {
      "text/plain": [
       "<torch._C.Generator at 0x7fed25b63b90>"
      ]
     },
     "execution_count": 67,
     "metadata": {},
     "output_type": "execute_result"
    }
   ],
   "source": [
    "env = gym.make('CartPole-v1')\n",
    "env.seed(seed)\n",
    "torch.manual_seed(seed)"
   ]
  },
  {
   "cell_type": "markdown",
   "metadata": {},
   "source": [
    "## Соберем нейронную сеть для апроксимации политики"
   ]
  },
  {
   "cell_type": "code",
   "execution_count": 68,
   "metadata": {},
   "outputs": [],
   "source": [
    "class Policy(nn.Module):\n",
    "    def __init__(self):\n",
    "        super(Policy, self).__init__()\n",
    "        # Соберем свою нейронку\n",
    "        \n",
    "\n",
    "    def forward(self, x):\n",
    "        \n",
    "\n",
    "\n",
    "policy = Policy()\n",
    "optimizer = optim.Adam(policy.parameters(), lr=learning_rate)\n",
    "eps = np.finfo(np.float32).eps.item()"
   ]
  },
  {
   "cell_type": "markdown",
   "metadata": {},
   "source": [
    "## Select Action\n",
    "Функция select_action выбирает действие на основе распределения вероятностей нашей политики. Наша политика возвращает вероятность для каждого возможного действия в нашем пространстве действий (движение влево или вправо) в виде массива длиной два, например [0,7, 0,3]. Затем мы выбираем действие на основе этих вероятностей, записываем историю действий и возвращаем действие актора."
   ]
  },
  {
   "cell_type": "code",
   "execution_count": 69,
   "metadata": {},
   "outputs": [],
   "source": [
    "def select_action(state):\n",
    "    # Читаем состояние\n",
    "    \n",
    "    \n",
    "    # Предсказываем вероятности\n",
    "    \n",
    "    # Выбираем действие на основе вероятностей (например e-greedy)\n",
    "    \n",
    "    return action.item()"
   ]
  },
  {
   "cell_type": "markdown",
   "metadata": {},
   "source": [
    "## Обновление политики\n",
    "Мы обновляем нашу политику играя эпизоды. Выигрыш определяется как ожидаемый доход от выполнения действия $ a $ в состоянии $ s $ в соответствии с политикой $ \\pi $.\n",
    "\n",
    "Мы знаем, что за каждый шаг продолжения симуляции мы получаем вознаграждение в размере 1. Мы можем использовать это для вычисления градиента политики на каждом временном шаге, где $ r $ - это вознаграждение для конкретной пары состояние-действие. Вместо мгновенного вознаграждения $ r $ мы используем долгосрочное вознаграждение $ v_{t} $, где $ v_{t} $ - это дисконтированная сумма всех будущих вознаграждений на протяжении всего эпизода. Таким образом, чем \"дольше\" эпизод длится, тем \"больше\" награда за конкретную пару состояние-действие в настоящем. $ v_{t} $ тогда,\n",
    "\n",
    "$$ v_{t} = \\sum_{k=0}^{N} \\gamma^{k}r_{t+k} $$\n",
    "\n",
    "где $ \\gamma $ - коэффициент дисконтирования (0,99). Например, если эпизод длится 5 шагов, награда за каждый шаг будет [4,90, 3,94, 2,97, 1,99, 1].\n",
    "Затем мы масштабируем наш вектор вознаграждения, вычитая среднее значение из каждого элемента и масштабируя до единичной дисперсии путем деления на стандартное отклонение (нормировка).\n",
    "\n",
    "Затем мы передадим нашу историю политик, умноженную на наши вознаграждения, нашему оптимизатору и обновим веса нашей нейронной сети, используя стохастический градиентный спуск. Это должно увеличить вероятность действий, которые принесли нашему агенту более крупное вознаграждение.\n",
    "\n"
   ]
  },
  {
   "cell_type": "code",
   "execution_count": 70,
   "metadata": {},
   "outputs": [],
   "source": [
    "def update_policy():\n",
    "    R = 0\n",
    "    policy_loss = []\n",
    "    returns = []\n",
    "    \n",
    "    # Дисконтируем (уменьшаем) награды для каждого шага\n",
    "    for r in policy.rewards[::-1]:\n",
    "        \n",
    "        \n",
    "    # Нормируем награду    \n",
    "    \n",
    "    \n",
    "    # Считаем \"ошибку\"\n",
    "    for log_prob, R in zip(policy.saved_log_probs, returns):\n",
    "        \n",
    "    \n",
    "    # Обновляем веса сети\n",
    "    optimizer.zero_grad()\n",
    "    policy_loss = torch.cat(policy_loss).sum()\n",
    "    policy_loss.backward()\n",
    "    optimizer.step()\n",
    "    \n",
    "    del policy.rewards[:]\n",
    "    del policy.saved_log_probs[:]"
   ]
  },
  {
   "cell_type": "markdown",
   "metadata": {},
   "source": [
    "## Training\n",
    "Наш основной цикл обучения политике. Для каждого шага в эпизоде мы выбираем действие, делаем шаг по среде и записываем полученное новое состояние и награду. Мы вызываем update_policy() в конце каждого эпизода, чтобы передать историю эпизодов в нашу нейронную сеть и улучшить нашу политику."
   ]
  },
  {
   "cell_type": "code",
   "execution_count": 71,
   "metadata": {},
   "outputs": [],
   "source": [
    "def main(episodes):\n",
    "    running_reward = 10\n",
    "    reward_history = []\n",
    "    \n",
    "    # Цикл по эпизодам\n",
    "    for i_episode in range(episodes):\n",
    "        state = env.reset()\n",
    "        ep_reward = 0\n",
    "        \n",
    "        # Цикл по одному эпизоду\n",
    "        # Ограничивае число итераций для обучения\n",
    "        for t in range(1, 10000):\n",
    "            \n",
    "\n",
    "        reward_history.append(ep_reward)\n",
    "        \n",
    "        # Обновляем среднюю награду\n",
    "        \n",
    "        \n",
    "        # Обновляем политику\n",
    "        \n",
    "        if i_episode % log_interval == 0:\n",
    "            print('Episode {}\\tПоследняя награда: {:.2f}\\tСредняя награда: {:.2f}'.format(\n",
    "                  i_episode, ep_reward, running_reward))\n",
    "        if running_reward > env.spec.reward_threshold:\n",
    "            print(\"Solved! Running reward is now {} and \"\n",
    "                  \"the last episode runs to {} time steps!\".format(running_reward, t))\n",
    "            break\n",
    "    return reward_history"
   ]
  },
  {
   "cell_type": "markdown",
   "metadata": {},
   "source": [
    "## Run Model"
   ]
  },
  {
   "cell_type": "code",
   "execution_count": 73,
   "metadata": {},
   "outputs": [
    {
     "name": "stdout",
     "output_type": "stream",
     "text": [
      "Episode 0\tПоследняя награда: 29.00\tСредняя награда: 10.95\n",
      "Episode 10\tПоследняя награда: 12.00\tСредняя награда: 19.94\n",
      "Episode 20\tПоследняя награда: 28.00\tСредняя награда: 33.05\n",
      "Episode 30\tПоследняя награда: 110.00\tСредняя награда: 39.82\n",
      "Episode 40\tПоследняя награда: 192.00\tСредняя награда: 68.08\n"
     ]
    }
   ],
   "source": [
    "episodes = 50\n",
    "reward_history = main(episodes)"
   ]
  },
  {
   "cell_type": "code",
   "execution_count": 50,
   "metadata": {},
   "outputs": [
    {
     "data": {
      "text/plain": [
       "475.0"
      ]
     },
     "execution_count": 50,
     "metadata": {},
     "output_type": "execute_result"
    }
   ],
   "source": [
    "env.spec.reward_threshold"
   ]
  },
  {
   "cell_type": "code",
   "execution_count": 76,
   "metadata": {},
   "outputs": [],
   "source": [
    "env.reset()\n",
    "env.close()"
   ]
  },
  {
   "cell_type": "markdown",
   "metadata": {},
   "source": [
    "## Plot Results"
   ]
  },
  {
   "cell_type": "code",
   "execution_count": 74,
   "metadata": {},
   "outputs": [
    {
     "data": {
      "image/png": "[encoded data removed]",
      "text/plain": [
       "<Figure size 648x648 with 2 Axes>"
      ]
     },
     "metadata": {
      "needs_background": "light"
     },
     "output_type": "display_data"
    }
   ],
   "source": [
    "window = int(episodes/5)\n",
    "\n",
    "fig, ((ax1), (ax2)) = plt.subplots(2, 1, sharey=True, figsize=[9,9]);\n",
    "rolling_mean = pd.Series(reward_history).rolling(window).mean()\n",
    "std = pd.Series(reward_history).rolling(window).std()\n",
    "ax1.plot(rolling_mean)\n",
    "ax1.fill_between(range(len(reward_history)),rolling_mean-std, rolling_mean+std, color='orange', alpha=0.2)\n",
    "ax1.set_title('Episode Length Moving Average ({}-episode window)'.format(window))\n",
    "ax1.set_xlabel('Episode'); ax1.set_ylabel('Episode Length')\n",
    "\n",
    "ax2.plot(reward_history)\n",
    "ax2.set_title('Episode Length')\n",
    "ax2.set_xlabel('Episode'); ax2.set_ylabel('Episode Length')\n",
    "\n",
    "fig.tight_layout(pad=2)\n",
    "plt.show()\n",
    "#fig.savefig('results.png')\n"
   ]
  }
 ],
 "metadata": {
  "kernelspec": {
   "display_name": "Python 3",
   "language": "python",
   "name": "python3"
  },
  "language_info": {
   "codemirror_mode": {
    "name": "ipython",
    "version": 3
   },
   "file_extension": ".py",
   "mimetype": "text/x-python",
   "name": "python",
   "nbconvert_exporter": "python",
   "pygments_lexer": "ipython3",
   "version": "3.8.8"
  }
 },
 "nbformat": 4,
 "nbformat_minor": 2
}
